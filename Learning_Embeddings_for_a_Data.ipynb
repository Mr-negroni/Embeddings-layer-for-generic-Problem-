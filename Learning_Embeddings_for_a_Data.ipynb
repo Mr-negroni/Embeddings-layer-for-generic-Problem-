{
  "nbformat": 4,
  "nbformat_minor": 0,
  "metadata": {
    "colab": {
      "name": "Learning Embeddings for a Data.ipynb",
      "provenance": []
    },
    "kernelspec": {
      "name": "python3",
      "display_name": "Python 3"
    },
    "language_info": {
      "name": "python"
    }
  },
  "cells": [
    {
      "cell_type": "code",
      "execution_count": 1,
      "metadata": {
        "id": "9vqIXKuRQD9j"
      },
      "outputs": [],
      "source": [
        "import tensorflow"
      ]
    },
    {
      "cell_type": "code",
      "source": [
        "from tensorflow.keras.preprocessing.text import Tokenizer"
      ],
      "metadata": {
        "id": "IKuSvj_rTCjD"
      },
      "execution_count": 2,
      "outputs": []
    },
    {
      "cell_type": "code",
      "source": [
        "sample = ['Hell there buddy','I am the great Saurabh Vishwakarma','Also known as  Sam or Simon Riley Ghost']"
      ],
      "metadata": {
        "id": "X7J36RX5TIbH"
      },
      "execution_count": 3,
      "outputs": []
    },
    {
      "cell_type": "code",
      "source": [
        "tokeniser = Tokenizer(num_words = 1000)"
      ],
      "metadata": {
        "id": "Av8affh9TQ8M"
      },
      "execution_count": 4,
      "outputs": []
    },
    {
      "cell_type": "code",
      "source": [
        "tokeniser.fit_on_texts(sample)"
      ],
      "metadata": {
        "id": "nGDzf19YTWXK"
      },
      "execution_count": 5,
      "outputs": []
    },
    {
      "cell_type": "code",
      "source": [
        "sequence = tokeniser.texts_to_sequences(sample)"
      ],
      "metadata": {
        "id": "K9vJdLBeTcEJ"
      },
      "execution_count": 6,
      "outputs": []
    },
    {
      "cell_type": "code",
      "source": [
        "print(sequence)"
      ],
      "metadata": {
        "colab": {
          "base_uri": "https://localhost:8080/"
        },
        "id": "G4Y_xfCyTg99",
        "outputId": "996e7d4b-87d4-43af-fb23-899ecb787b8e"
      },
      "execution_count": 7,
      "outputs": [
        {
          "output_type": "stream",
          "name": "stdout",
          "text": [
            "[[1, 2, 3], [4, 5, 6, 7, 8, 9], [10, 11, 12, 13, 14, 15, 16, 17]]\n"
          ]
        }
      ]
    },
    {
      "cell_type": "code",
      "source": [
        "one_hot_encoding = tokeniser.sequences_to_matrix(sequence)"
      ],
      "metadata": {
        "id": "sGJEGkdBTipY"
      },
      "execution_count": 8,
      "outputs": []
    },
    {
      "cell_type": "code",
      "source": [
        "print(one_hot_encoding)"
      ],
      "metadata": {
        "colab": {
          "base_uri": "https://localhost:8080/"
        },
        "id": "5n_v3Q9TTsX0",
        "outputId": "769a6619-4768-4ee3-d182-87a8272b463b"
      },
      "execution_count": 9,
      "outputs": [
        {
          "output_type": "stream",
          "name": "stdout",
          "text": [
            "[[0. 1. 1. ... 0. 0. 0.]\n",
            " [0. 0. 0. ... 0. 0. 0.]\n",
            " [0. 0. 0. ... 0. 0. 0.]]\n"
          ]
        }
      ]
    },
    {
      "cell_type": "code",
      "source": [
        "word_index = tokeniser.word_index"
      ],
      "metadata": {
        "id": "rpnvCUmBTuUR"
      },
      "execution_count": 10,
      "outputs": []
    },
    {
      "cell_type": "code",
      "source": [
        "print(word_index)"
      ],
      "metadata": {
        "colab": {
          "base_uri": "https://localhost:8080/"
        },
        "id": "NFSMPQeqT5F6",
        "outputId": "3afd1b8c-a304-4759-80b7-f09420344dc0"
      },
      "execution_count": 11,
      "outputs": [
        {
          "output_type": "stream",
          "name": "stdout",
          "text": [
            "{'hell': 1, 'there': 2, 'buddy': 3, 'i': 4, 'am': 5, 'the': 6, 'great': 7, 'saurabh': 8, 'vishwakarma': 9, 'also': 10, 'known': 11, 'as': 12, 'sam': 13, 'or': 14, 'simon': 15, 'riley': 16, 'ghost': 17}\n"
          ]
        }
      ]
    },
    {
      "cell_type": "code",
      "source": [
        "#Hashing Trick : \n",
        "#Word Level Encoding"
      ],
      "metadata": {
        "id": "0BhMqyDsT7Ia"
      },
      "execution_count": 12,
      "outputs": []
    },
    {
      "cell_type": "code",
      "source": [
        "sample = ['The cat sat on the mat','The dog ate my home work']\n",
        "dimensionality = 1000\n",
        "max_length = 10"
      ],
      "metadata": {
        "id": "xMm5giX8UrwT"
      },
      "execution_count": 13,
      "outputs": []
    },
    {
      "cell_type": "code",
      "source": [
        "import numpy as np"
      ],
      "metadata": {
        "id": "jDGROSXjU2Qs"
      },
      "execution_count": 14,
      "outputs": []
    },
    {
      "cell_type": "code",
      "source": [
        "results= np.zeros((len(sample),max_length,dimensionality))\n"
      ],
      "metadata": {
        "id": "Tuc8eZNEU3gh"
      },
      "execution_count": 16,
      "outputs": []
    },
    {
      "cell_type": "code",
      "source": [
        "for i, samples in enumerate(sample):\n",
        "  for j, word in list(enumerate(samples.split()))[:max_length]:\n",
        "    index = abs(hash(word))%dimensionality\n",
        "    results[i,j,index] = 1\n"
      ],
      "metadata": {
        "id": "2wAZcEZTVAg9"
      },
      "execution_count": 17,
      "outputs": []
    },
    {
      "cell_type": "code",
      "source": [
        "print(results)"
      ],
      "metadata": {
        "colab": {
          "base_uri": "https://localhost:8080/"
        },
        "id": "2eBFk78xVcIm",
        "outputId": "2a960dbd-2acb-4b88-9464-c48424094e5c"
      },
      "execution_count": 18,
      "outputs": [
        {
          "output_type": "stream",
          "name": "stdout",
          "text": [
            "[[[0. 0. 0. ... 0. 0. 0.]\n",
            "  [0. 0. 0. ... 0. 0. 0.]\n",
            "  [0. 0. 0. ... 0. 0. 0.]\n",
            "  ...\n",
            "  [0. 0. 0. ... 0. 0. 0.]\n",
            "  [0. 0. 0. ... 0. 0. 0.]\n",
            "  [0. 0. 0. ... 0. 0. 0.]]\n",
            "\n",
            " [[0. 0. 0. ... 0. 0. 0.]\n",
            "  [0. 0. 0. ... 0. 0. 0.]\n",
            "  [0. 0. 0. ... 0. 0. 0.]\n",
            "  ...\n",
            "  [0. 0. 0. ... 0. 0. 0.]\n",
            "  [0. 0. 0. ... 0. 0. 0.]\n",
            "  [0. 0. 0. ... 0. 0. 0.]]]\n"
          ]
        }
      ]
    },
    {
      "cell_type": "code",
      "source": [
        "from tensorflow.keras.datasets import imdb\n",
        "from tensorflow.keras.preprocessing.sequence import pad_sequences\n",
        "from tensorflow.keras.layers import Embedding,Dense,Flatten"
      ],
      "metadata": {
        "id": "g6Xiep0qVdiq"
      },
      "execution_count": 19,
      "outputs": []
    },
    {
      "cell_type": "code",
      "source": [
        "max_features = 1000\n",
        "maxlen = 20\n",
        "(x_train,y_train),(x_test,y_test) = imdb.load_data(num_words = max_features)"
      ],
      "metadata": {
        "colab": {
          "base_uri": "https://localhost:8080/"
        },
        "id": "REcviVVZZXDn",
        "outputId": "20dfac07-f7ec-4595-fe5c-f0b1b3795dba"
      },
      "execution_count": 21,
      "outputs": [
        {
          "output_type": "stream",
          "name": "stdout",
          "text": [
            "Downloading data from https://storage.googleapis.com/tensorflow/tf-keras-datasets/imdb.npz\n",
            "17465344/17464789 [==============================] - 0s 0us/step\n",
            "17473536/17464789 [==============================] - 0s 0us/step\n"
          ]
        }
      ]
    },
    {
      "cell_type": "code",
      "source": [
        "x_train = pad_sequences(x_train,maxlen = maxlen)\n",
        "x_test = pad_sequences(x_test,maxlen = maxlen)"
      ],
      "metadata": {
        "id": "87yhFuSNZitM"
      },
      "execution_count": 22,
      "outputs": []
    },
    {
      "cell_type": "code",
      "source": [
        "print(x_train)"
      ],
      "metadata": {
        "colab": {
          "base_uri": "https://localhost:8080/"
        },
        "id": "OXg2N18lZzoP",
        "outputId": "1bce6aab-7eb8-46e2-d128-e22db93b1118"
      },
      "execution_count": 23,
      "outputs": [
        {
          "output_type": "stream",
          "name": "stdout",
          "text": [
            "[[ 65  16  38 ...  19 178  32]\n",
            " [ 23   4   2 ...  16 145  95]\n",
            " [  2  13 191 ...   7 129 113]\n",
            " ...\n",
            " [ 11   2   2 ...   4   2   2]\n",
            " [ 92 401 728 ...  12   9  23]\n",
            " [764  40   4 ... 204 131   9]]\n"
          ]
        }
      ]
    },
    {
      "cell_type": "code",
      "source": [
        "from tensorflow.keras.models import Sequential"
      ],
      "metadata": {
        "id": "ovhfFluoZ0oR"
      },
      "execution_count": 25,
      "outputs": []
    },
    {
      "cell_type": "code",
      "source": [
        "network = Sequential([\n",
        "                      Embedding(1000,8,input_length = maxlen),\n",
        "                      Flatten(),\n",
        "                      Dense(units=1,activation = 'sigmoid')\n",
        "])\n",
        "network.compile(loss = 'binary_crossentropy',optimizer = 'rmsprop',metrics = ['accuracy'])"
      ],
      "metadata": {
        "id": "Ma3RIbl8Z8bv"
      },
      "execution_count": 27,
      "outputs": []
    },
    {
      "cell_type": "code",
      "source": [
        "history = network.fit(x_train,y_train,epochs = 10,batch_size = 32,validation_split = 0.2)"
      ],
      "metadata": {
        "colab": {
          "base_uri": "https://localhost:8080/"
        },
        "id": "0MOm_E1faZo0",
        "outputId": "18a07911-9b7d-4216-f525-e34b188da2a0"
      },
      "execution_count": 31,
      "outputs": [
        {
          "output_type": "stream",
          "name": "stdout",
          "text": [
            "Epoch 1/10\n",
            "625/625 [==============================] - 2s 2ms/step - loss: 0.6821 - accuracy: 0.5786 - val_loss: 0.6556 - val_accuracy: 0.6602\n",
            "Epoch 2/10\n",
            "625/625 [==============================] - 1s 2ms/step - loss: 0.5968 - accuracy: 0.7153 - val_loss: 0.5684 - val_accuracy: 0.7056\n",
            "Epoch 3/10\n",
            "625/625 [==============================] - 1s 2ms/step - loss: 0.5214 - accuracy: 0.7462 - val_loss: 0.5380 - val_accuracy: 0.7222\n",
            "Epoch 4/10\n",
            "625/625 [==============================] - 1s 2ms/step - loss: 0.4888 - accuracy: 0.7612 - val_loss: 0.5275 - val_accuracy: 0.7318\n",
            "Epoch 5/10\n",
            "625/625 [==============================] - 1s 2ms/step - loss: 0.4715 - accuracy: 0.7722 - val_loss: 0.5274 - val_accuracy: 0.7320\n",
            "Epoch 6/10\n",
            "625/625 [==============================] - 1s 2ms/step - loss: 0.4590 - accuracy: 0.7824 - val_loss: 0.5281 - val_accuracy: 0.7306\n",
            "Epoch 7/10\n",
            "625/625 [==============================] - 1s 2ms/step - loss: 0.4490 - accuracy: 0.7886 - val_loss: 0.5322 - val_accuracy: 0.7300\n",
            "Epoch 8/10\n",
            "625/625 [==============================] - 1s 2ms/step - loss: 0.4399 - accuracy: 0.7942 - val_loss: 0.5382 - val_accuracy: 0.7268\n",
            "Epoch 9/10\n",
            "625/625 [==============================] - 1s 2ms/step - loss: 0.4314 - accuracy: 0.7990 - val_loss: 0.5431 - val_accuracy: 0.7240\n",
            "Epoch 10/10\n",
            "625/625 [==============================] - 1s 2ms/step - loss: 0.4238 - accuracy: 0.8035 - val_loss: 0.5478 - val_accuracy: 0.7222\n"
          ]
        }
      ]
    },
    {
      "cell_type": "code",
      "source": [
        ""
      ],
      "metadata": {
        "id": "9DTukWTbaprB"
      },
      "execution_count": null,
      "outputs": []
    }
  ]
}